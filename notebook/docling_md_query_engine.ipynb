{
 "cells": [
  {
   "cell_type": "markdown",
   "metadata": {},
   "source": [
    "# Query engine for Docling parsed Markdown files \n",
    "\n",
    "This notebook demonstrates the use of the `DoclingMdQueryEngine` for retrieval-augmented question answering over documents. It shows how to set up the engine with Docling parsed Markdown files, and execute natural language queries against the indexed data. \n",
    "\n",
    "The `DoclingMdQueryEngine` integrates persistent ChromaDB vector storage with LlamaIndex for efficient document retrieval."
   ]
  },
  {
   "cell_type": "code",
   "execution_count": null,
   "metadata": {},
   "outputs": [],
   "source": [
    "%pip install llama-index-vector-stores-chroma==0.4.1\n",
    "%pip install llama-index==0.12.16"
   ]
  },
  {
   "cell_type": "code",
   "execution_count": 1,
   "metadata": {},
   "outputs": [
    {
     "name": "stdout",
     "output_type": "stream",
     "text": [
      "models to use:  ['gpt-4o', '<your Azure OpenAI deployment name>']\n"
     ]
    }
   ],
   "source": [
    "import os\n",
    "\n",
    "import autogen\n",
    "\n",
    "config_list = autogen.config_list_from_json(env_or_file=\"../OAI_CONFIG_LIST\")\n",
    "\n",
    "assert len(config_list) > 0\n",
    "print(\"models to use: \", [config_list[i][\"model\"] for i in range(len(config_list))])\n",
    "\n",
    "# Put the OpenAI API key into the environment\n",
    "os.environ[\"OPENAI_API_KEY\"] = config_list[0][\"api_key\"]"
   ]
  },
  {
   "cell_type": "code",
   "execution_count": 2,
   "metadata": {},
   "outputs": [
    {
     "name": "stderr",
     "output_type": "stream",
     "text": [
      "INFO:chromadb.telemetry.product.posthog:Anonymized telemetry enabled. See                     https://docs.trychroma.com/telemetry for more information.\n"
     ]
    }
   ],
   "source": [
    "from autogen.agentchat.contrib.rag.docling_query_engine import DoclingMdQueryEngine\n",
    "\n",
    "query_engine = DoclingMdQueryEngine(db_path=\"./tmp/chroma\")"
   ]
  },
  {
   "cell_type": "code",
   "execution_count": 3,
   "metadata": {},
   "outputs": [
    {
     "name": "stderr",
     "output_type": "stream",
     "text": [
      "INFO:autogen.agentchat.contrib.rag.docling_query_engine:Collection None was created in the database.\n",
      "INFO:autogen.agentchat.contrib.rag.docling_query_engine:Loading docs from directory: /workspaces/ag2/test/agentchat/contrib/rag/pdf_parsed/\n",
      "INFO:autogen.agentchat.contrib.rag.docling_query_engine:Documents are loaded successfully.\n",
      "INFO:autogen.agentchat.contrib.rag.docling_query_engine:VectorDB index was created with input documents\n"
     ]
    }
   ],
   "source": [
    "input_dir = \"/workspaces/ag2/test/agentchat/contrib/rag/pdf_parsed/\"\n",
    "query_engine.init_db(input_dir=input_dir)"
   ]
  },
  {
   "cell_type": "code",
   "execution_count": 4,
   "metadata": {},
   "outputs": [
    {
     "name": "stdout",
     "output_type": "stream",
     "text": [
      "docling-parsed-docs\n"
     ]
    }
   ],
   "source": [
    "print(query_engine.get_collection_name())"
   ]
  },
  {
   "cell_type": "code",
   "execution_count": 5,
   "metadata": {},
   "outputs": [
    {
     "name": "stdout",
     "output_type": "stream",
     "text": [
      "NVIDIA has invested over $45.3 billion in research and development since its inception.\n"
     ]
    }
   ],
   "source": [
    "question = \"How much money did Nvidia spend in research and development\"\n",
    "answer = query_engine.query(question)\n",
    "print(answer)"
   ]
  },
  {
   "cell_type": "code",
   "execution_count": 6,
   "metadata": {},
   "outputs": [
    {
     "name": "stderr",
     "output_type": "stream",
     "text": [
      "INFO:autogen.agentchat.contrib.rag.docling_query_engine:Collection None was created in the database.\n",
      "INFO:autogen.agentchat.contrib.rag.docling_query_engine:Loading input doc: /workspaces/ag2/test/agentchat/contrib/rag/pdf_parsed/nvidia_10k_2024.md\n",
      "INFO:autogen.agentchat.contrib.rag.docling_query_engine:Documents are loaded successfully.\n",
      "INFO:autogen.agentchat.contrib.rag.docling_query_engine:VectorDB index was created with input documents\n"
     ]
    }
   ],
   "source": [
    "input_docs = [\"/workspaces/ag2/test/agentchat/contrib/rag/pdf_parsed/nvidia_10k_2024.md\"]\n",
    "query_engine.init_db(input_doc_paths=input_docs)"
   ]
  },
  {
   "cell_type": "code",
   "execution_count": 15,
   "metadata": {},
   "outputs": [
    {
     "name": "stdout",
     "output_type": "stream",
     "text": [
      "NVIDIA has invested over $45.3 billion in research and development since its inception.\n"
     ]
    }
   ],
   "source": [
    "question = \"How much money did Nvidia spend in research and development\"\n",
    "answer = query_engine.query(question)\n",
    "print(answer)"
   ]
  },
  {
   "cell_type": "code",
   "execution_count": 17,
   "metadata": {},
   "outputs": [
    {
     "ename": "TypeError",
     "evalue": "DoclingMdQueryEngine.add_docs() missing 1 required positional argument: 'new_doc_dir'",
     "output_type": "error",
     "traceback": [
      "\u001b[0;31m---------------------------------------------------------------------------\u001b[0m",
      "\u001b[0;31mTypeError\u001b[0m                                 Traceback (most recent call last)",
      "Cell \u001b[0;32mIn[17], line 2\u001b[0m\n\u001b[1;32m      1\u001b[0m new_docs \u001b[38;5;241m=\u001b[39m [\u001b[38;5;124m\"\u001b[39m\u001b[38;5;124m/workspaces/ag2/test/agentchat/contrib/rag/pdf_parsed/Toast_financial_report.md\u001b[39m\u001b[38;5;124m\"\u001b[39m]\n\u001b[0;32m----> 2\u001b[0m \u001b[43mquery_engine\u001b[49m\u001b[38;5;241;43m.\u001b[39;49m\u001b[43madd_docs\u001b[49m\u001b[43m(\u001b[49m\u001b[43mnew_doc_paths\u001b[49m\u001b[38;5;241;43m=\u001b[39;49m\u001b[43mnew_docs\u001b[49m\u001b[43m)\u001b[49m\n",
      "\u001b[0;31mTypeError\u001b[0m: DoclingMdQueryEngine.add_docs() missing 1 required positional argument: 'new_doc_dir'"
     ]
    }
   ],
   "source": [
    "new_docs = [\"/workspaces/ag2/test/agentchat/contrib/rag/pdf_parsed/Toast_financial_report.md\"]\n",
    "query_engine.add_docs(new_doc_paths=new_docs)"
   ]
  },
  {
   "cell_type": "code",
   "execution_count": null,
   "metadata": {},
   "outputs": [
    {
     "name": "stdout",
     "output_type": "stream",
     "text": [
      "In 2024, Toast reported a net income of $56 million for the three months ended September 30, and a net loss of $13 million for the nine months ended September 30.\n"
     ]
    }
   ],
   "source": [
    "question = \"How much money did Toast earn in 2024\"\n",
    "answer = query_engine.query(question)\n",
    "print(answer)"
   ]
  }
 ],
 "metadata": {
  "kernelspec": {
   "display_name": "Python 3",
   "language": "python",
   "name": "python3"
  },
  "language_info": {
   "codemirror_mode": {
    "name": "ipython",
    "version": 3
   },
   "file_extension": ".py",
   "mimetype": "text/x-python",
   "name": "python",
   "nbconvert_exporter": "python",
   "pygments_lexer": "ipython3",
   "version": "3.10.16"
  }
 },
 "nbformat": 4,
 "nbformat_minor": 2
}
